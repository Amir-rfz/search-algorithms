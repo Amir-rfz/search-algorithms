{
  "cells": [
    {
      "cell_type": "markdown",
      "metadata": {},
      "source": [
        "### How to model the project:\n",
        "* initial state : Our initial state is the n*n matrix that we give as input to our algorithm.\n",
        "\n",
        "* goal state : Our final state is actually when all the lights are off, or in other words, when all the elements in our n*n matrix are equal to zero.\n",
        "\n",
        "* action : Here, the action that we can perform in each state is to hit one of the keys, which will change its value in the matrix along with its four neighboring keys, and therefore it will take us to a new state.\n",
        "\n",
        "* transition model : As mentioned in the previous case, after each action, we change the value of that house from the matrix to all 4 neighboring houses."
      ]
    },
    {
      "cell_type": "code",
      "execution_count": 47,
      "metadata": {
        "id": "-_u9GISI2vYT"
      },
      "outputs": [],
      "source": [
        "import random\n",
        "import heapq\n",
        "from dataclasses import dataclass, field\n",
        "from typing import List, Tuple, Callable, Any, Set\n",
        "import numpy as np\n",
        "from time import time\n",
        "from tabulate import tabulate\n",
        "import threading\n",
        "import collections\n",
        "from math import ceil\n",
        "from enum import Enum"
      ]
    },
    {
      "cell_type": "code",
      "execution_count": 48,
      "metadata": {
        "id": "f9kNLENs2vYW"
      },
      "outputs": [],
      "source": [
        "class LightsOutPuzzle:\n",
        "    def __init__(self, board: List[List[int]]):\n",
        "        self.board = np.array(board, dtype=np.uint8)\n",
        "        self.size = len(board)\n",
        "\n",
        "    def toggle(self, x, y):\n",
        "        for dx, dy in [(0, 0), (1, 0), (-1, 0), (0, 1), (0, -1)]:\n",
        "            nx, ny = x + dx, y + dy\n",
        "            if 0 <= nx < self.size and 0 <= ny < self.size:\n",
        "                self.board[nx, ny] ^= 1\n",
        "\n",
        "    def is_solved(self):\n",
        "        return np.all(self.board == 0)\n",
        "\n",
        "    def get_moves(self):\n",
        "        return [(x, y) for x in range(self.size) for y in range(self.size)]\n",
        "\n",
        "    def __str__(self):\n",
        "        return '\\n'.join(' '.join(str(cell) for cell in row) for row in self.board)\n"
      ]
    },
    {
      "cell_type": "code",
      "execution_count": 49,
      "metadata": {
        "id": "6uQSnZiC2vYX"
      },
      "outputs": [],
      "source": [
        "def create_random_board(size: int,  seed: int, num_toggles: int = None):\n",
        "    random.seed(time() if seed is None else seed)\n",
        "\n",
        "    board = [[0 for _ in range(size)] for _ in range(size)]\n",
        "    puzzle = LightsOutPuzzle(board)\n",
        "\n",
        "    if num_toggles is None:\n",
        "        num_toggles = random.randint(1, size * size)\n",
        "\n",
        "    for _ in range(num_toggles):\n",
        "        x = random.randint(0, size - 1)\n",
        "        y = random.randint(0, size - 1)\n",
        "        puzzle.toggle(x, y)\n",
        "\n",
        "    return puzzle.board"
      ]
    },
    {
      "cell_type": "code",
      "execution_count": 50,
      "metadata": {
        "id": "1uX5N45l2vYY"
      },
      "outputs": [],
      "source": [
        "def show_solution(\n",
        "    puzzle: LightsOutPuzzle,\n",
        "    solution: List[Tuple[int, int]],\n",
        "    algorithm_name: str,\n",
        "    nodes_visited: int,\n",
        "    show_steps: bool = False,\n",
        "):\n",
        "    print(f\"\\nSolving with {algorithm_name}:\")\n",
        "    if solution is None:\n",
        "        print(\"No solution found.\")\n",
        "        return\n",
        "    print(f\"Solution: {solution}\")\n",
        "    print(f\"Nodes visited: {nodes_visited}\")\n",
        "    if show_steps:\n",
        "        print(\"\\nSolution steps:\")\n",
        "        for i, move in enumerate(solution):\n",
        "            print(f\"\\nStep {i+1}: Toggle position {move}\")\n",
        "            puzzle.toggle(*move)\n",
        "            print(puzzle)\n",
        "        print(\n",
        "            \"\\nFinal state (solved):\"\n",
        "            if puzzle.is_solved()\n",
        "            else \"\\nFinal state (not solved):\"\n",
        "        )\n",
        "        print(puzzle)"
      ]
    },
    {
      "cell_type": "code",
      "execution_count": 51,
      "metadata": {
        "id": "Mo-jd9Ta2vYY"
      },
      "outputs": [],
      "source": [
        "tests = [\n",
        "    create_random_board(3, 42),\n",
        "    create_random_board(3, 41),\n",
        "    create_random_board(3, 42, 5),\n",
        "    create_random_board(4, 42),\n",
        "    create_random_board(4, 41),\n",
        "    create_random_board(4, 42, 5),\n",
        "    create_random_board(5, 42),\n",
        "    create_random_board(5, 41),\n",
        "    create_random_board(5, 42, 5),\n",
        "]"
      ]
    },
    {
      "cell_type": "markdown",
      "metadata": {},
      "source": [
        "### defind node for model the problem"
      ]
    },
    {
      "cell_type": "code",
      "execution_count": 52,
      "metadata": {},
      "outputs": [],
      "source": [
        "class Node():\n",
        "    def __init__(self, state, parent, action):\n",
        "        self.state = state\n",
        "        self.parent = parent\n",
        "        self.action = action"
      ]
    },
    {
      "cell_type": "markdown",
      "metadata": {},
      "source": [
        "### BFS\n",
        "\n",
        "In this section, we want to implement the bfs algorithm. This algorithm exports each line of the tree completely and then moves to the next line. Therefore, considering that in uninformed algorithms, the cost of each action is equal, so the optimal solution is gives us, but since we check all the states, our processing time increases a lot"
      ]
    },
    {
      "cell_type": "markdown",
      "metadata": {},
      "source": [
        "### defind a queue for bfs"
      ]
    },
    {
      "cell_type": "code",
      "execution_count": 53,
      "metadata": {},
      "outputs": [],
      "source": [
        "class QueueFrontier:\n",
        "    def __init__(self):\n",
        "        self.frontier = []\n",
        "\n",
        "    def add(self, node):\n",
        "        self.frontier.append(node)\n",
        "\n",
        "    def contains_state(self, state):\n",
        "        return any(node.state == state for node in self.frontier)\n",
        "\n",
        "    def empty(self):\n",
        "        return len(self.frontier) == 0\n",
        "\n",
        "    def remove(self):\n",
        "        if self.empty():\n",
        "            raise Exception(\"empty frontier\")\n",
        "        else:\n",
        "            node = self.frontier[0]\n",
        "            self.frontier = self.frontier[1:]\n",
        "            return node"
      ]
    },
    {
      "cell_type": "code",
      "execution_count": 54,
      "metadata": {
        "id": "z5fPu1JC2vYY"
      },
      "outputs": [],
      "source": [
        "# TODO: Must return a list of tuples and the number of visited nodes     \n",
        "def bfs_solve(puzzle: LightsOutPuzzle) -> Tuple[List[Tuple[int, int]], int]:\n",
        "    # Keep track of number of states explored\n",
        "    num_explored = 0\n",
        "    \n",
        "    # Initialize frontier to just the starting position\n",
        "    start = Node(state=puzzle, parent=None, action=None)\n",
        "    frontier = QueueFrontier()\n",
        "    frontier.add(start)\n",
        "    \n",
        "    # Initialize an empty explored set\n",
        "    explored = set()\n",
        "    \n",
        "    # Keep looping until solution found\n",
        "    while True:\n",
        "\n",
        "        # If nothing left in frontier, then no path\n",
        "        if frontier.empty():\n",
        "            raise Exception(\"no solution\")\n",
        "\n",
        "        # Choose a node from the frontier\n",
        "        node = frontier.remove()\n",
        "        num_explored += 1\n",
        "\n",
        "        # If node is the goal, then we have a solution\n",
        "        if node.state.is_solved():\n",
        "            actions = []\n",
        "            cells = []\n",
        "            while node.parent is not None:\n",
        "                actions.append(node.action)\n",
        "                cells.append(node.state)\n",
        "                node = node.parent\n",
        "            actions.reverse()\n",
        "            cells.reverse()\n",
        "            # self.solution = (actions, cells)\n",
        "            return actions,num_explored\n",
        "\n",
        "        # Mark node as explored\n",
        "        explored.add(node.state)\n",
        "\n",
        "        #get the list of neighbors\n",
        "        neighbors = []\n",
        "        moves = node.state.get_moves()\n",
        "        for move in moves:\n",
        "            neighbors.append((move , node.state.toggle(move)))\n",
        "        \n",
        "        # Add neighbors to frontier\n",
        "        for action, state in neighbors:\n",
        "            if not frontier.contains_state(state) and state not in explored:\n",
        "                child = Node(state=state, parent=node, action = action)\n",
        "                frontier.add(child)\n",
        "                "
      ]
    },
    {
      "cell_type": "code",
      "execution_count": 55,
      "metadata": {
        "id": "IBtDQ20y2vYZ"
      },
      "outputs": [],
      "source": [
        "# TODO: Must return a list of tuples and the number of visited nodes\n",
        "def ids_solve(puzzle: LightsOutPuzzle) -> Tuple[List[Tuple[int, int]], int]:\n",
        "    pass"
      ]
    },
    {
      "cell_type": "code",
      "execution_count": 56,
      "metadata": {
        "id": "2Z0sHYTm2vYZ"
      },
      "outputs": [],
      "source": [
        "# TODO: Must return a list of tuples and the number of visited nodes\n",
        "def astar_solve(puzzle: LightsOutPuzzle, heuristic: Callable[[LightsOutPuzzle], int]) -> Tuple[List[Tuple[int, int]], int]:\n",
        "    pass"
      ]
    },
    {
      "cell_type": "code",
      "execution_count": 57,
      "metadata": {
        "id": "TT98p2Ld2vYZ"
      },
      "outputs": [],
      "source": [
        "# TODO: Implement heuristic functions and store them in the list\n",
        "\n",
        "def heuristic1(puzzle: LightsOutPuzzle):\n",
        "  return 0\n",
        "\n",
        "heuristics = [heuristic1]"
      ]
    },
    {
      "cell_type": "code",
      "execution_count": 58,
      "metadata": {
        "id": "bhzzdA8Ec196"
      },
      "outputs": [],
      "source": [
        "# TODO: Implement weighted heuristic functions and store them in the list\n",
        "def weighted_heuristic1(puzzle: LightsOutPuzzle, alpha = 5):\n",
        "  return heuristic1(puzzle) * alpha\n",
        "\n",
        "weighted_heuristics = [weighted_heuristic1]\n",
        "\n",
        "# TODO: assign 2 weights you wanna run\n",
        "weights = [2, 5]"
      ]
    },
    {
      "cell_type": "code",
      "execution_count": 59,
      "metadata": {
        "id": "8BEBUOvO2vYa"
      },
      "outputs": [],
      "source": [
        "class SearchStatus(Enum):\n",
        "    SOLVED = \"Solved\"\n",
        "    TIMEOUT = \"Timeout\"\n",
        "    NO_SOLUTION = \"No Solution\"\n",
        "\n",
        "@dataclass\n",
        "class SearchResult:\n",
        "    result: SearchStatus\n",
        "    solution: Any = None\n",
        "    nodes_visited: int = None\n",
        "    time: float = None\n",
        "\n",
        "    def __str__(self):\n",
        "        output = f\"Result: {self.result.value}\\n\"\n",
        "        if self.result == SearchStatus.SOLVED:\n",
        "            output += f\"Solution: {self.solution}\\n\"\n",
        "        if self.result != SearchStatus.TIMEOUT:\n",
        "            output += f\"Nodes Visited: {self.nodes_visited}\\n\"\n",
        "            output += f\"Time Taken: {self.time:.3f} seconds\\n\"\n",
        "\n",
        "        return output\n",
        "\n",
        "\n",
        "DEFAULT_SEARCH_RESULT = SearchResult(SearchStatus.TIMEOUT, None, None, float(\"inf\"))"
      ]
    },
    {
      "cell_type": "code",
      "execution_count": 60,
      "metadata": {
        "id": "nJDcqmA_2vYa"
      },
      "outputs": [],
      "source": [
        "def run_searches(func: Callable, args: Any, time_limit: float = 60.0, name: str = \"\") -> SearchResult:\n",
        "    result = []\n",
        "\n",
        "    def target():\n",
        "        try:\n",
        "            solution, nodes_visited = func(*args)\n",
        "            result.append((solution, nodes_visited))\n",
        "        except Exception as e:\n",
        "            result.append(e)\n",
        "\n",
        "    thread = threading.Thread(target=target)\n",
        "    thread.start()\n",
        "\n",
        "    start_time = time()\n",
        "    thread.join(timeout=time_limit)\n",
        "\n",
        "    if thread.is_alive() or not result:\n",
        "        print(f\"\\nTime limit of {time_limit} seconds exceeded for {name}\")\n",
        "        return SearchResult(SearchStatus.TIMEOUT)\n",
        "\n",
        "    if isinstance(result[0], Exception):\n",
        "        raise result[0]\n",
        "\n",
        "    solution, nodes_visited = result[0]\n",
        "    show_solution(args[0], solution, name, nodes_visited)\n",
        "    time_taken = time() - start_time\n",
        "    return SearchResult(SearchStatus.SOLVED if solution else SearchStatus.NO_SOLUTION, solution, nodes_visited, time_taken)"
      ]
    },
    {
      "cell_type": "code",
      "execution_count": 61,
      "metadata": {
        "id": "qnyyUuCG2vYa"
      },
      "outputs": [],
      "source": [
        "from functools import partial\n",
        "\n",
        "\n",
        "def run_test(test: List, heuristics: List[Callable[[Any], int]], time_limit: float = 60.0):\n",
        "\n",
        "    print(f\"Running test:\\n {test}\")\n",
        "\n",
        "    puzzle = LightsOutPuzzle(test)\n",
        "\n",
        "    bfs_result = run_searches(bfs_solve, (puzzle,), name=\"BFS\", time_limit=time_limit)\n",
        "    ids_result = run_searches(ids_solve, (puzzle,), name=\"IDS\", time_limit=time_limit)\n",
        "\n",
        "    astar_results = []\n",
        "    for heuristic in heuristics:\n",
        "        astar_results.append(\n",
        "            run_searches(\n",
        "                astar_solve,\n",
        "                (puzzle, heuristic),\n",
        "                name=f\"A*({heuristic.__name__})\",\n",
        "                time_limit=time_limit,\n",
        "            )\n",
        "        )\n",
        "\n",
        "    weighted_astar_results = []\n",
        "    for heuristic in weighted_heuristics:\n",
        "        for weight in weights:\n",
        "          weighted_astar_results.append(\n",
        "              run_searches(\n",
        "                  astar_solve,\n",
        "                  (puzzle, partial(heuristic, alpha = weight)),\n",
        "                  name=f\"weighted A*({heuristic.__name__}, alpha = {weight})\",\n",
        "                  time_limit=time_limit,\n",
        "              )\n",
        "          )\n",
        "\n",
        "    print(\"\\n-------------------------------\\n\")\n",
        "\n",
        "    return (\n",
        "        test,\n",
        "        bfs_result,\n",
        "        ids_result,\n",
        "        *astar_results,\n",
        "        *weighted_astar_results\n",
        "    )"
      ]
    },
    {
      "cell_type": "code",
      "execution_count": 62,
      "metadata": {
        "id": "oz2EFpWE2vYa"
      },
      "outputs": [
        {
          "name": "stdout",
          "output_type": "stream",
          "text": [
            "Running test:\n",
            " [[1 1 1]\n",
            " [1 1 1]\n",
            " [1 0 0]]\n"
          ]
        },
        {
          "ename": "TypeError",
          "evalue": "LightsOutPuzzle.toggle() missing 1 required positional argument: 'y'",
          "output_type": "error",
          "traceback": [
            "\u001b[1;31m---------------------------------------------------------------------------\u001b[0m",
            "\u001b[1;31mTypeError\u001b[0m                                 Traceback (most recent call last)",
            "Cell \u001b[1;32mIn[62], line 4\u001b[0m\n\u001b[0;32m      1\u001b[0m results: List[Tuple[\u001b[38;5;28mstr\u001b[39m, SearchResult, SearchResult, SearchResult, SearchResult]] \u001b[38;5;241m=\u001b[39m []\n\u001b[0;32m      3\u001b[0m \u001b[38;5;28;01mfor\u001b[39;00m test \u001b[38;5;129;01min\u001b[39;00m tests:\n\u001b[1;32m----> 4\u001b[0m     results\u001b[38;5;241m.\u001b[39mappend(\u001b[43mrun_test\u001b[49m\u001b[43m(\u001b[49m\u001b[43mtest\u001b[49m\u001b[43m,\u001b[49m\u001b[43m \u001b[49m\u001b[43mheuristics\u001b[49m\u001b[43m,\u001b[49m\u001b[43m \u001b[49m\u001b[38;5;241;43m60\u001b[39;49m\u001b[43m)\u001b[49m)\n",
            "Cell \u001b[1;32mIn[61], line 10\u001b[0m, in \u001b[0;36mrun_test\u001b[1;34m(test, heuristics, time_limit)\u001b[0m\n\u001b[0;32m      6\u001b[0m \u001b[38;5;28mprint\u001b[39m(\u001b[38;5;124mf\u001b[39m\u001b[38;5;124m\"\u001b[39m\u001b[38;5;124mRunning test:\u001b[39m\u001b[38;5;130;01m\\n\u001b[39;00m\u001b[38;5;124m \u001b[39m\u001b[38;5;132;01m{\u001b[39;00mtest\u001b[38;5;132;01m}\u001b[39;00m\u001b[38;5;124m\"\u001b[39m)\n\u001b[0;32m      8\u001b[0m puzzle \u001b[38;5;241m=\u001b[39m LightsOutPuzzle(test)\n\u001b[1;32m---> 10\u001b[0m bfs_result \u001b[38;5;241m=\u001b[39m \u001b[43mrun_searches\u001b[49m\u001b[43m(\u001b[49m\u001b[43mbfs_solve\u001b[49m\u001b[43m,\u001b[49m\u001b[43m \u001b[49m\u001b[43m(\u001b[49m\u001b[43mpuzzle\u001b[49m\u001b[43m,\u001b[49m\u001b[43m)\u001b[49m\u001b[43m,\u001b[49m\u001b[43m \u001b[49m\u001b[43mname\u001b[49m\u001b[38;5;241;43m=\u001b[39;49m\u001b[38;5;124;43m\"\u001b[39;49m\u001b[38;5;124;43mBFS\u001b[39;49m\u001b[38;5;124;43m\"\u001b[39;49m\u001b[43m,\u001b[49m\u001b[43m \u001b[49m\u001b[43mtime_limit\u001b[49m\u001b[38;5;241;43m=\u001b[39;49m\u001b[43mtime_limit\u001b[49m\u001b[43m)\u001b[49m\n\u001b[0;32m     11\u001b[0m ids_result \u001b[38;5;241m=\u001b[39m run_searches(ids_solve, (puzzle,), name\u001b[38;5;241m=\u001b[39m\u001b[38;5;124m\"\u001b[39m\u001b[38;5;124mIDS\u001b[39m\u001b[38;5;124m\"\u001b[39m, time_limit\u001b[38;5;241m=\u001b[39mtime_limit)\n\u001b[0;32m     13\u001b[0m astar_results \u001b[38;5;241m=\u001b[39m []\n",
            "Cell \u001b[1;32mIn[60], line 22\u001b[0m, in \u001b[0;36mrun_searches\u001b[1;34m(func, args, time_limit, name)\u001b[0m\n\u001b[0;32m     19\u001b[0m     \u001b[38;5;28;01mreturn\u001b[39;00m SearchResult(SearchStatus\u001b[38;5;241m.\u001b[39mTIMEOUT)\n\u001b[0;32m     21\u001b[0m \u001b[38;5;28;01mif\u001b[39;00m \u001b[38;5;28misinstance\u001b[39m(result[\u001b[38;5;241m0\u001b[39m], \u001b[38;5;167;01mException\u001b[39;00m):\n\u001b[1;32m---> 22\u001b[0m     \u001b[38;5;28;01mraise\u001b[39;00m result[\u001b[38;5;241m0\u001b[39m]\n\u001b[0;32m     24\u001b[0m solution, nodes_visited \u001b[38;5;241m=\u001b[39m result[\u001b[38;5;241m0\u001b[39m]\n\u001b[0;32m     25\u001b[0m show_solution(args[\u001b[38;5;241m0\u001b[39m], solution, name, nodes_visited)\n",
            "Cell \u001b[1;32mIn[60], line 6\u001b[0m, in \u001b[0;36mrun_searches.<locals>.target\u001b[1;34m()\u001b[0m\n\u001b[0;32m      4\u001b[0m \u001b[38;5;28;01mdef\u001b[39;00m \u001b[38;5;21mtarget\u001b[39m():\n\u001b[0;32m      5\u001b[0m     \u001b[38;5;28;01mtry\u001b[39;00m:\n\u001b[1;32m----> 6\u001b[0m         solution, nodes_visited \u001b[38;5;241m=\u001b[39m \u001b[43mfunc\u001b[49m\u001b[43m(\u001b[49m\u001b[38;5;241;43m*\u001b[39;49m\u001b[43margs\u001b[49m\u001b[43m)\u001b[49m\n\u001b[0;32m      7\u001b[0m         result\u001b[38;5;241m.\u001b[39mappend((solution, nodes_visited))\n\u001b[0;32m      8\u001b[0m     \u001b[38;5;28;01mexcept\u001b[39;00m \u001b[38;5;167;01mException\u001b[39;00m \u001b[38;5;28;01mas\u001b[39;00m e:\n",
            "Cell \u001b[1;32mIn[54], line 45\u001b[0m, in \u001b[0;36mbfs_solve\u001b[1;34m(puzzle)\u001b[0m\n\u001b[0;32m     43\u001b[0m moves \u001b[38;5;241m=\u001b[39m node\u001b[38;5;241m.\u001b[39mstate\u001b[38;5;241m.\u001b[39mget_moves()\n\u001b[0;32m     44\u001b[0m \u001b[38;5;28;01mfor\u001b[39;00m move \u001b[38;5;129;01min\u001b[39;00m moves:\n\u001b[1;32m---> 45\u001b[0m     neighbors\u001b[38;5;241m.\u001b[39mappend((move , \u001b[43mnode\u001b[49m\u001b[38;5;241;43m.\u001b[39;49m\u001b[43mstate\u001b[49m\u001b[38;5;241;43m.\u001b[39;49m\u001b[43mtoggle\u001b[49m\u001b[43m(\u001b[49m\u001b[43mmove\u001b[49m\u001b[43m)\u001b[49m))\n\u001b[0;32m     47\u001b[0m \u001b[38;5;66;03m# Add neighbors to frontier\u001b[39;00m\n\u001b[0;32m     48\u001b[0m \u001b[38;5;28;01mfor\u001b[39;00m action, state \u001b[38;5;129;01min\u001b[39;00m neighbors:\n",
            "\u001b[1;31mTypeError\u001b[0m: LightsOutPuzzle.toggle() missing 1 required positional argument: 'y'"
          ]
        }
      ],
      "source": [
        "results: List[Tuple[str, SearchResult, SearchResult, SearchResult, SearchResult]] = []\n",
        "\n",
        "for test in tests:\n",
        "    results.append(run_test(test, heuristics, 60))"
      ]
    },
    {
      "cell_type": "code",
      "execution_count": 25,
      "metadata": {
        "id": "ujYzQmNq2vYa"
      },
      "outputs": [
        {
          "ename": "IndexError",
          "evalue": "list index out of range",
          "output_type": "error",
          "traceback": [
            "\u001b[1;31m---------------------------------------------------------------------------\u001b[0m",
            "\u001b[1;31mIndexError\u001b[0m                                Traceback (most recent call last)",
            "Cell \u001b[1;32mIn[25], line 21\u001b[0m\n\u001b[0;32m     17\u001b[0m           table_data[\u001b[38;5;241m-\u001b[39m\u001b[38;5;241m1\u001b[39m]\u001b[38;5;241m.\u001b[39mappend(\u001b[38;5;28mstr\u001b[39m(result[\u001b[38;5;241m2\u001b[39m \u001b[38;5;241m+\u001b[39m \u001b[38;5;28mlen\u001b[39m(heuristics) \u001b[38;5;241m+\u001b[39m i \u001b[38;5;241m*\u001b[39m \u001b[38;5;241m2\u001b[39m \u001b[38;5;241m+\u001b[39m j]))\n\u001b[0;32m     19\u001b[0m     table_data\u001b[38;5;241m.\u001b[39mappend(\u001b[38;5;124m\"\u001b[39m\u001b[38;5;130;01m\\n\u001b[39;00m\u001b[38;5;130;01m\\n\u001b[39;00m\u001b[38;5;130;01m\\n\u001b[39;00m\u001b[38;5;124m\"\u001b[39m)\n\u001b[1;32m---> 21\u001b[0m \u001b[38;5;28;01mif\u001b[39;00m \u001b[43mtable_data\u001b[49m\u001b[43m[\u001b[49m\u001b[38;5;241;43m-\u001b[39;49m\u001b[38;5;241;43m1\u001b[39;49m\u001b[43m]\u001b[49m \u001b[38;5;241m==\u001b[39m \u001b[38;5;124m\"\u001b[39m\u001b[38;5;130;01m\\n\u001b[39;00m\u001b[38;5;130;01m\\n\u001b[39;00m\u001b[38;5;130;01m\\n\u001b[39;00m\u001b[38;5;124m\"\u001b[39m:\n\u001b[0;32m     22\u001b[0m     table_data\u001b[38;5;241m.\u001b[39mpop()\n\u001b[0;32m     24\u001b[0m \u001b[38;5;28mprint\u001b[39m(\u001b[38;5;28mlen\u001b[39m(table_data))\n",
            "\u001b[1;31mIndexError\u001b[0m: list index out of range"
          ]
        }
      ],
      "source": [
        "table_data: List[List[str]] = []\n",
        "\n",
        "for result in results:\n",
        "    table_data.append(\n",
        "        [\n",
        "            \"\\n\".join(\" \".join(str(cell) for cell in row) for row in result[0]),\n",
        "            str(result[1]),\n",
        "            str(result[2]),\n",
        "        ]\n",
        "    )\n",
        "\n",
        "    for i in range(len(heuristics)):\n",
        "        table_data[-1].append(str(result[2 + i]))\n",
        "\n",
        "    for i in range(len(weighted_heuristics)):\n",
        "        for j in range(len(weights)):\n",
        "          table_data[-1].append(str(result[2 + len(heuristics) + i * 2 + j]))\n",
        "\n",
        "    table_data.append(\"\\n\\n\\n\")\n",
        "\n",
        "if table_data[-1] == \"\\n\\n\\n\":\n",
        "    table_data.pop()\n",
        "\n",
        "print(len(table_data))\n",
        "print(\"Results:\")\n",
        "print(\n",
        "    tabulate(\n",
        "        table_data,\n",
        "        headers=[\n",
        "            \"Test\",\n",
        "            \"BFS\",\n",
        "            \"IDS\",\n",
        "            *[f\"A* ({heuristic.__name__})\" for heuristic in heuristics],\n",
        "            *[f\"Weighted A* ({heuristic.__name__}, alpha = {weight})\" for heuristic in weighted_heuristics for weight in weights]\n",
        "        ],\n",
        "        floatfmt=\".3f\",\n",
        "        numalign=\"center\",\n",
        "        stralign=\"center\",\n",
        "        tablefmt=\"grid\",\n",
        "    )\n",
        ")"
      ]
    }
  ],
  "metadata": {
    "colab": {
      "provenance": []
    },
    "kernelspec": {
      "display_name": "Python 3",
      "language": "python",
      "name": "python3"
    },
    "language_info": {
      "codemirror_mode": {
        "name": "ipython",
        "version": 3
      },
      "file_extension": ".py",
      "mimetype": "text/x-python",
      "name": "python",
      "nbconvert_exporter": "python",
      "pygments_lexer": "ipython3",
      "version": "3.12.2"
    }
  },
  "nbformat": 4,
  "nbformat_minor": 0
}
