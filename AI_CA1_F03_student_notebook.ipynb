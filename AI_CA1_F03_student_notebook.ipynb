{
  "cells": [
    {
      "cell_type": "code",
      "execution_count": null,
      "metadata": {
        "id": "-_u9GISI2vYT"
      },
      "outputs": [],
      "source": [
        "import random\n",
        "import heapq\n",
        "from dataclasses import dataclass, field\n",
        "from typing import List, Tuple, Callable, Any, Set\n",
        "import numpy as np\n",
        "from time import time\n",
        "from tabulate import tabulate\n",
        "import threading\n",
        "import collections\n",
        "from math import ceil\n",
        "from enum import Enum"
      ]
    },
    {
      "cell_type": "code",
      "execution_count": null,
      "metadata": {
        "id": "f9kNLENs2vYW"
      },
      "outputs": [],
      "source": [
        "class LightsOutPuzzle:\n",
        "    def __init__(self, board: List[List[int]]):\n",
        "        self.board = np.array(board, dtype=np.uint8)\n",
        "        self.size = len(board)\n",
        "\n",
        "    def toggle(self, x, y):\n",
        "        for dx, dy in [(0, 0), (1, 0), (-1, 0), (0, 1), (0, -1)]:\n",
        "            nx, ny = x + dx, y + dy\n",
        "            if 0 <= nx < self.size and 0 <= ny < self.size:\n",
        "                self.board[nx, ny] ^= 1\n",
        "\n",
        "    def is_solved(self):\n",
        "        return np.all(self.board == 0)\n",
        "\n",
        "    def get_moves(self):\n",
        "        return [(x, y) for x in range(self.size) for y in range(self.size)]\n",
        "\n",
        "    def __str__(self):\n",
        "        return '\\n'.join(' '.join(str(cell) for cell in row) for row in self.board)\n"
      ]
    },
    {
      "cell_type": "code",
      "execution_count": null,
      "metadata": {
        "id": "6uQSnZiC2vYX"
      },
      "outputs": [],
      "source": [
        "def create_random_board(size: int,  seed: int, num_toggles: int = None):\n",
        "    random.seed(time() if seed is None else seed)\n",
        "\n",
        "    board = [[0 for _ in range(size)] for _ in range(size)]\n",
        "    puzzle = LightsOutPuzzle(board)\n",
        "\n",
        "    if num_toggles is None:\n",
        "        num_toggles = random.randint(1, size * size)\n",
        "\n",
        "    for _ in range(num_toggles):\n",
        "        x = random.randint(0, size - 1)\n",
        "        y = random.randint(0, size - 1)\n",
        "        puzzle.toggle(x, y)\n",
        "\n",
        "    return puzzle.board"
      ]
    },
    {
      "cell_type": "code",
      "execution_count": null,
      "metadata": {
        "id": "1uX5N45l2vYY"
      },
      "outputs": [],
      "source": [
        "def show_solution(\n",
        "    puzzle: LightsOutPuzzle,\n",
        "    solution: List[Tuple[int, int]],\n",
        "    algorithm_name: str,\n",
        "    nodes_visited: int,\n",
        "    show_steps: bool = False,\n",
        "):\n",
        "    print(f\"\\nSolving with {algorithm_name}:\")\n",
        "    if solution is None:\n",
        "        print(\"No solution found.\")\n",
        "        return\n",
        "    print(f\"Solution: {solution}\")\n",
        "    print(f\"Nodes visited: {nodes_visited}\")\n",
        "    if show_steps:\n",
        "        print(\"\\nSolution steps:\")\n",
        "        for i, move in enumerate(solution):\n",
        "            print(f\"\\nStep {i+1}: Toggle position {move}\")\n",
        "            puzzle.toggle(*move)\n",
        "            print(puzzle)\n",
        "        print(\n",
        "            \"\\nFinal state (solved):\"\n",
        "            if puzzle.is_solved()\n",
        "            else \"\\nFinal state (not solved):\"\n",
        "        )\n",
        "        print(puzzle)"
      ]
    },
    {
      "cell_type": "code",
      "execution_count": null,
      "metadata": {
        "id": "Mo-jd9Ta2vYY"
      },
      "outputs": [],
      "source": [
        "tests = [\n",
        "    create_random_board(3, 42),\n",
        "    create_random_board(3, 41),\n",
        "    create_random_board(3, 42, 5),\n",
        "    create_random_board(4, 42),\n",
        "    create_random_board(4, 41),\n",
        "    create_random_board(4, 42, 5),\n",
        "    create_random_board(5, 42),\n",
        "    create_random_board(5, 41),\n",
        "    create_random_board(5, 42, 5),\n",
        "]"
      ]
    },
    {
      "cell_type": "code",
      "execution_count": null,
      "metadata": {
        "id": "z5fPu1JC2vYY"
      },
      "outputs": [],
      "source": [
        "# TODO: Must return a list of tuples and the number of visited nodes\n",
        "def bfs_solve(puzzle: LightsOutPuzzle) -> Tuple[List[Tuple[int, int]], int]:\n",
        "    return [], 0"
      ]
    },
    {
      "cell_type": "code",
      "execution_count": null,
      "metadata": {
        "id": "IBtDQ20y2vYZ"
      },
      "outputs": [],
      "source": [
        "# TODO: Must return a list of tuples and the number of visited nodes\n",
        "def ids_solve(puzzle: LightsOutPuzzle) -> Tuple[List[Tuple[int, int]], int]:\n",
        "    pass"
      ]
    },
    {
      "cell_type": "code",
      "execution_count": null,
      "metadata": {
        "id": "2Z0sHYTm2vYZ"
      },
      "outputs": [],
      "source": [
        "# TODO: Must return a list of tuples and the number of visited nodes\n",
        "def astar_solve(puzzle: LightsOutPuzzle, heuristic: Callable[[LightsOutPuzzle], int]) -> Tuple[List[Tuple[int, int]], int]:\n",
        "    pass"
      ]
    },
    {
      "cell_type": "code",
      "execution_count": null,
      "metadata": {
        "id": "TT98p2Ld2vYZ"
      },
      "outputs": [],
      "source": [
        "# TODO: Implement heuristic functions and store them in the list\n",
        "\n",
        "def heuristic1(puzzle: LightsOutPuzzle):\n",
        "  return 0\n",
        "\n",
        "heuristics = [heuristic1]"
      ]
    },
    {
      "cell_type": "code",
      "source": [
        "# TODO: Implement weighted heuristic functions and store them in the list\n",
        "def weighted_heuristic1(puzzle: LightsOutPuzzle, alpha = 5):\n",
        "  return heuristic1(puzzle) * alpha\n",
        "\n",
        "weighted_heuristics = [weighted_heuristic1]\n",
        "\n",
        "# TODO: assign 2 weights you wanna run\n",
        "weights = [2, 5]"
      ],
      "metadata": {
        "id": "bhzzdA8Ec196"
      },
      "execution_count": null,
      "outputs": []
    },
    {
      "cell_type": "code",
      "execution_count": null,
      "metadata": {
        "id": "8BEBUOvO2vYa"
      },
      "outputs": [],
      "source": [
        "class SearchStatus(Enum):\n",
        "    SOLVED = \"Solved\"\n",
        "    TIMEOUT = \"Timeout\"\n",
        "    NO_SOLUTION = \"No Solution\"\n",
        "\n",
        "@dataclass\n",
        "class SearchResult:\n",
        "    result: SearchStatus\n",
        "    solution: Any = None\n",
        "    nodes_visited: int = None\n",
        "    time: float = None\n",
        "\n",
        "    def __str__(self):\n",
        "        output = f\"Result: {self.result.value}\\n\"\n",
        "        if self.result == SearchStatus.SOLVED:\n",
        "            output += f\"Solution: {self.solution}\\n\"\n",
        "        if self.result != SearchStatus.TIMEOUT:\n",
        "            output += f\"Nodes Visited: {self.nodes_visited}\\n\"\n",
        "            output += f\"Time Taken: {self.time:.3f} seconds\\n\"\n",
        "\n",
        "        return output\n",
        "\n",
        "\n",
        "DEFAULT_SEARCH_RESULT = SearchResult(SearchStatus.TIMEOUT, None, None, float(\"inf\"))"
      ]
    },
    {
      "cell_type": "code",
      "execution_count": null,
      "metadata": {
        "id": "nJDcqmA_2vYa"
      },
      "outputs": [],
      "source": [
        "def run_searches(func: Callable, args: Any, time_limit: float = 60.0, name: str = \"\") -> SearchResult:\n",
        "    result = []\n",
        "\n",
        "    def target():\n",
        "        try:\n",
        "            solution, nodes_visited = func(*args)\n",
        "            result.append((solution, nodes_visited))\n",
        "        except Exception as e:\n",
        "            result.append(e)\n",
        "\n",
        "    thread = threading.Thread(target=target)\n",
        "    thread.start()\n",
        "\n",
        "    start_time = time()\n",
        "    thread.join(timeout=time_limit)\n",
        "\n",
        "    if thread.is_alive() or not result:\n",
        "        print(f\"\\nTime limit of {time_limit} seconds exceeded for {name}\")\n",
        "        return SearchResult(SearchStatus.TIMEOUT)\n",
        "\n",
        "    if isinstance(result[0], Exception):\n",
        "        raise result[0]\n",
        "\n",
        "    solution, nodes_visited = result[0]\n",
        "    show_solution(args[0], solution, name, nodes_visited)\n",
        "    time_taken = time() - start_time\n",
        "    return SearchResult(SearchStatus.SOLVED if solution else SearchStatus.NO_SOLUTION, solution, nodes_visited, time_taken)"
      ]
    },
    {
      "cell_type": "code",
      "execution_count": null,
      "metadata": {
        "id": "qnyyUuCG2vYa"
      },
      "outputs": [],
      "source": [
        "from functools import partial\n",
        "\n",
        "\n",
        "def run_test(test: List, heuristics: List[Callable[[Any], int]], time_limit: float = 60.0):\n",
        "\n",
        "    print(f\"Running test:\\n {test}\")\n",
        "\n",
        "    puzzle = LightsOutPuzzle(test)\n",
        "\n",
        "    bfs_result = run_searches(bfs_solve, (puzzle,), name=\"BFS\", time_limit=time_limit)\n",
        "    ids_result = run_searches(ids_solve, (puzzle,), name=\"IDS\", time_limit=time_limit)\n",
        "\n",
        "    astar_results = []\n",
        "    for heuristic in heuristics:\n",
        "        astar_results.append(\n",
        "            run_searches(\n",
        "                astar_solve,\n",
        "                (puzzle, heuristic),\n",
        "                name=f\"A*({heuristic.__name__})\",\n",
        "                time_limit=time_limit,\n",
        "            )\n",
        "        )\n",
        "\n",
        "    weighted_astar_results = []\n",
        "    for heuristic in weighted_heuristics:\n",
        "        for weight in weights:\n",
        "          weighted_astar_results.append(\n",
        "              run_searches(\n",
        "                  astar_solve,\n",
        "                  (puzzle, partial(heuristic, alpha = weight)),\n",
        "                  name=f\"weighted A*({heuristic.__name__}, alpha = {weight})\",\n",
        "                  time_limit=time_limit,\n",
        "              )\n",
        "          )\n",
        "\n",
        "    print(\"\\n-------------------------------\\n\")\n",
        "\n",
        "    return (\n",
        "        test,\n",
        "        bfs_result,\n",
        "        ids_result,\n",
        "        *astar_results,\n",
        "        *weighted_astar_results\n",
        "    )"
      ]
    },
    {
      "cell_type": "code",
      "execution_count": null,
      "metadata": {
        "id": "oz2EFpWE2vYa"
      },
      "outputs": [],
      "source": [
        "results: List[Tuple[str, SearchResult, SearchResult, SearchResult, SearchResult]] = []\n",
        "\n",
        "for test in tests:\n",
        "    results.append(run_test(test, heuristics, 60))"
      ]
    },
    {
      "cell_type": "code",
      "execution_count": null,
      "metadata": {
        "id": "ujYzQmNq2vYa"
      },
      "outputs": [],
      "source": [
        "table_data: List[List[str]] = []\n",
        "\n",
        "for result in results:\n",
        "    table_data.append(\n",
        "        [\n",
        "            \"\\n\".join(\" \".join(str(cell) for cell in row) for row in result[0]),\n",
        "            str(result[1]),\n",
        "            str(result[2]),\n",
        "        ]\n",
        "    )\n",
        "\n",
        "    for i in range(len(heuristics)):\n",
        "        table_data[-1].append(str(result[2 + i]))\n",
        "\n",
        "    for i in range(len(weighted_heuristics)):\n",
        "        for j in range(len(weights)):\n",
        "          table_data[-1].append(str(result[2 + len(heuristics) + i * 2 + j]))\n",
        "\n",
        "    table_data.append(\"\\n\\n\\n\")\n",
        "\n",
        "if table_data[-1] == \"\\n\\n\\n\":\n",
        "    table_data.pop()\n",
        "\n",
        "print(len(table_data))\n",
        "print(\"Results:\")\n",
        "print(\n",
        "    tabulate(\n",
        "        table_data,\n",
        "        headers=[\n",
        "            \"Test\",\n",
        "            \"BFS\",\n",
        "            \"IDS\",\n",
        "            *[f\"A* ({heuristic.__name__})\" for heuristic in heuristics],\n",
        "            *[f\"Weighted A* ({heuristic.__name__}, alpha = {weight})\" for heuristic in weighted_heuristics for weight in weights]\n",
        "        ],\n",
        "        floatfmt=\".3f\",\n",
        "        numalign=\"center\",\n",
        "        stralign=\"center\",\n",
        "        tablefmt=\"grid\",\n",
        "    )\n",
        ")"
      ]
    }
  ],
  "metadata": {
    "colab": {
      "provenance": []
    },
    "kernelspec": {
      "display_name": "Python 3",
      "language": "python",
      "name": "python3"
    },
    "language_info": {
      "codemirror_mode": {
        "name": "ipython",
        "version": 3
      },
      "file_extension": ".py",
      "mimetype": "text/x-python",
      "name": "python",
      "nbconvert_exporter": "python",
      "pygments_lexer": "ipython3",
      "version": "3.11.3"
    }
  },
  "nbformat": 4,
  "nbformat_minor": 0
}