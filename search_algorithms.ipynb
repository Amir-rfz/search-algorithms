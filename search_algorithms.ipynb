{
 "cells": [
  {
   "cell_type": "markdown",
   "metadata": {},
   "source": [
    "### How to model the project:\n",
    "* initial state : Our initial state is the n*n matrix that we give as input to our algorithm.\n",
    "\n",
    "* goal state : Our final state is actually when all the lights are off, or in other words, when all the elements in our n*n matrix are equal to zero.\n",
    "\n",
    "* action : Here, the action that we can perform in each state is to hit one of the keys, which will change its value in the matrix along with its four neighboring keys, and therefore it will take us to a new state.\n",
    "\n",
    "* transition model : As mentioned in the previous case, after each action, we change the value of that house from the matrix to all 4 neighboring houses."
   ]
  },
  {
   "cell_type": "markdown",
   "metadata": {},
   "source": [
    "### BFS\n",
    "\n",
    "In this section, we want to implement the bfs algorithm. This algorithm exports each line of the tree completely and then moves to the next line. Therefore, considering that in uninformed algorithms, the cost of each action is equal, so the optimal solution is gives us, but since we check all the states, our processing time increases a lot"
   ]
  },
  {
   "cell_type": "code",
   "execution_count": null,
   "metadata": {
    "vscode": {
     "languageId": "plaintext"
    }
   },
   "outputs": [],
   "source": []
  }
 ],
 "metadata": {
  "language_info": {
   "name": "python"
  }
 },
 "nbformat": 4,
 "nbformat_minor": 2
}
